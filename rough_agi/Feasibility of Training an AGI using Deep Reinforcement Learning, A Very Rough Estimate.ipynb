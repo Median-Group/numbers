{
 "cells": [
  {
   "cell_type": "markdown",
   "metadata": {},
   "source": [
    "# Introduction\n",
    "\n",
    "Several months ago, we were presented with a scenario for how artificial general intelligence (AGI) may be achieved in the near future. We found the approach surprising, so we attempted to produce a rough model to investigate its feasibility. This document presents the model and its conclusions.\n",
    "\n",
    "The usual cliches about the folly of trying to predict the future go without saying and this shouldn't be treated as a rigorous estimate, but hopefully it can give a loose, rough sense of some of the relevant quantities involved. The notebook and the data used for it can be found in the Median Group [numbers GitHub repo](https://github.com/Median-Group/numbers) if the reader is interested in using different quantities or changing the structure of the model. If the reader is interested in a more general approach based on the rate of theoretical progress, see our [Insights](http://mediangroup.org/insights) model.\n",
    "\n",
    "\n",
    "To briefly explain the proposal: \n",
    "\n",
    "- Create a simulated world somewhat similar to our world (i.e, containing space-time, material, programming, multiple agents, etc).\n",
    "- Simulate many agents, each with an amount of computing power equal to the human brain. These agents interact in a manner similar to that of evolution; the most fit survive and reproduce.\n",
    "- At the end, a collection of the most fit individuals are given data about our world and asked to solve problems for rewards (this is really not a good way to do AI alignment but can plausibly produce misaligned AGI).\n",
    "\n",
    "\n",
    "This does not take into account:\n",
    "\n",
    "- serial vs. parallel training\n",
    "- FLOPS vs. other considerations (memory, TEPS, latency)\n",
    "- breakdown of exponential price performance improvement\n",
    "- costs associated with things other than a subset of the training hardware (there are many others)\n",
    "- time required to develop software\n",
    "- difficulty of creating and running a simulated world\n",
    "- paradigm shifts in AI (e.g. no longer doing reinforcement learning) that would make this scenario irrelevant\n",
    "- whether \"difficulty ratio\" relative to Go makes sense (it probably doesn't except in the loosest sense)\n",
    "\n",
    "## A Note about Uncertainty and Distributions\n",
    "Much of the challenge associated with modelling this scenario derives from the difficulty of estimating (or even bounding) many of the parameters. When possible, we use distributions or values corresponding to commonly accepted quantities. In the cases where there are no such quantities, we attempt to construct reasonable distributions with very wide bounds to reflect the uncertainty.\n",
    "\n",
    "If reasonable confidence bounds can be established (these terms are meant loosely), we will use a generally [log-uniform](http://ecolego.facilia.se/ecolego/show/Log-Uniform%20Distribution) distribution."
   ]
  },
  {
   "cell_type": "code",
   "execution_count": 51,
   "metadata": {},
   "outputs": [],
   "source": [
    "%matplotlib inline\n",
    "\n",
    "import matplotlib\n",
    "import numpy as np\n",
    "import pandas as pd\n",
    "from matplotlib import pyplot as plt\n",
    "import seaborn as sns\n",
    "from IPython.display import display, HTML\n",
    "import warnings\n",
    "\n",
    "# Suppress Pandas plotting error\n",
    "warnings.filterwarnings(\"ignore\")\n",
    "\n",
    "# plot aesthetics\n",
    "sns.set()\n",
    "\n",
    "# number of samples for Monte Carlo simulation\n",
    "n = 50000\n",
    "\n",
    "# summary table of distribution\n",
    "def summary(data, unit=''):\n",
    "    \"\"\"\n",
    "    Returns Pandas dataframe summarizing distribution of data with percentiles\n",
    "    Mostly for convenience\n",
    "    \n",
    "    Paramaeters\n",
    "    -----------\n",
    "    data : array_like\n",
    "        Input array or array-like object\n",
    "    unit : str\n",
    "        Units associated with data\n",
    "    \n",
    "    Returns\n",
    "    -------\n",
    "    out : pandas.DataFrame\n",
    "    \"\"\"\n",
    "    \n",
    "    percentiles = [1, 5, 25, 50, 75, 95, 99]\n",
    "    values = np.percentile(data, percentiles)\n",
    "    df = pd.DataFrame(data={\"Percentile\": percentiles, unit: values})\n",
    "    # df = df.concat([\"Mean\", np.mean(data)])\n",
    "    return df[[\"Percentile\", unit]]\n",
    "\n",
    "# log-uniform distribution\n",
    "def loguniform(low=0, high=1, size=None):\n",
    "    \"\"\"\n",
    "    Returns loguniform distribution bounded by low and high orders of magnitude.\n",
    "    \n",
    "    Parameters\n",
    "    ----------\n",
    "    low : float, optional\n",
    "        Order-of-magnitude lower boundary of the output interval.\n",
    "        All values generated will be greater than or equal to low.\n",
    "        The default value is 0.\n",
    "    high : float, optional\n",
    "        Order-of-magnitude upper boundary of the output interval.\n",
    "        All values generated will be less than high.\n",
    "        The default value is 1.\n",
    "    size : int or tuple of ints, optional\n",
    "        Output shape\n",
    "    \n",
    "    Returns\n",
    "    -------\n",
    "    out : ndarray or scalar\n",
    "         samples from the loguniform distribution\n",
    "    \"\"\"\n",
    "    return 10**np.random.uniform(low, high, size)"
   ]
  },
  {
   "cell_type": "markdown",
   "metadata": {},
   "source": [
    "## Computational Performance of the Brain\n",
    "The computational performance of the brain will be estimated in operations per second. [This is a convenient but incredibly flawed approach](http://mediangroup.org/brain1.html). [Sandberg and Bostrom (2009)](https://www.fhi.ox.ac.uk/brain-emulation-roadmap-report.pdf) contains a summary of estimates from the literature:\n",
    "\n",
    "- Tuszynski (2006): $10^{28}$ FLOPS\n",
    "- Kurzweil (1999): $2\\times10^{16}$ FLOPS\n",
    "- Thagard (2002): $10^{23}$ FLOPS\n",
    "- Bostrom (1998): $10^{17}$ operations per second\n",
    "- Merkle (1989): $2\\times10^{15}$ operations per second\n",
    "- Merkle (1989): $10^{13}$ operations per second\n",
    "- Dix (2005): $10^{16}$ synaptic operations per second\n",
    "- Seitz (2007): $2\\times10^{16}$ synaptic operations per second *(note: the Bostrom paper incorrectly reports this as $2\\times 10^{12}$, see the [original](http://hiqnews.megafoundation.org/The_Great_Gray_Ravelled_Knot.htm))*\n",
    "- Malickas (1996): $10^{16}$ synaptic operations per second\n",
    "\n",
    "[Martins et al. 2012](https://repositorium.sdum.uminho.pt/bitstream/1822/20756/1/NanoroboticBrainMonitoring2012_%20draft%20with%20page%20numbers.pdf) offers a few more estimates:\n",
    "\n",
    "- Moravec (1998): $10^{14}$ FLOPS\n",
    "- Sarpeshka (1998): $3.6\\times10^{15}$ synaptic operations per second\n",
    "\n",
    "The estimates from Tuszynski (2006) and Thagard (2002) are derived from speculations about quantum computation occurring in the brain. As this is usually regarded as biologically implausible, they will be excluded from the data set. \n",
    "\n",
    "Note: the smaller estimate by Merkle (1989) seems to over-estimate both the capacitance of axons and how completely that capacitance is discharged when conducting an action potential, but it will be included anyway."
   ]
  },
  {
   "cell_type": "code",
   "execution_count": 33,
   "metadata": {
    "scrolled": true
   },
   "outputs": [
    {
     "data": {
      "image/png": "[encoded data removed]",
      "text/plain": [
       "<Figure size 432x288 with 1 Axes>"
      ]
     },
     "metadata": {},
     "output_type": "display_data"
    }
   ],
   "source": [
    "brain_flops = np.log10([2e16, 1e17, 1e13, 2e15, 1e16, 2e16, 1e14, 3.6e15])\n",
    "plt.hist(brain_flops, density=True);\n",
    "plt.xlabel(\"FLOPS (log-scale)\");\n",
    "plt.ylabel(\"Frequency\");"
   ]
  },
  {
   "cell_type": "markdown",
   "metadata": {},
   "source": [
    "These estimates are typically generated by multiplying uncertain quantities, so we expect the resulting distribution to resemble a mixture of Gaussians in log-space.  We will use a kernel density estimator to produce a distribution from the estimates, with the bandwidth hyperparameter tuned empirically using cross-validation."
   ]
  },
  {
   "cell_type": "code",
   "execution_count": 34,
   "metadata": {
    "scrolled": true
   },
   "outputs": [
    {
     "data": {
      "text/html": [
       "<div>\n",
       "<style scoped>\n",
       "    .dataframe tbody tr th:only-of-type {\n",
       "        vertical-align: middle;\n",
       "    }\n",
       "\n",
       "    .dataframe tbody tr th {\n",
       "        vertical-align: top;\n",
       "    }\n",
       "\n",
       "    .dataframe thead th {\n",
       "        text-align: right;\n",
       "    }\n",
       "</style>\n",
       "<table border=\"1\" class=\"dataframe\">\n",
       "  <thead>\n",
       "    <tr style=\"text-align: right;\">\n",
       "      <th></th>\n",
       "      <th>Percentile</th>\n",
       "      <th>Operations per second</th>\n",
       "    </tr>\n",
       "  </thead>\n",
       "  <tbody>\n",
       "    <tr>\n",
       "      <th>0</th>\n",
       "      <td>1</td>\n",
       "      <td>2.926178e+11</td>\n",
       "    </tr>\n",
       "    <tr>\n",
       "      <th>1</th>\n",
       "      <td>5</td>\n",
       "      <td>3.113016e+12</td>\n",
       "    </tr>\n",
       "    <tr>\n",
       "      <th>2</th>\n",
       "      <td>25</td>\n",
       "      <td>2.307572e+14</td>\n",
       "    </tr>\n",
       "    <tr>\n",
       "      <th>3</th>\n",
       "      <td>50</td>\n",
       "      <td>4.015672e+15</td>\n",
       "    </tr>\n",
       "    <tr>\n",
       "      <th>4</th>\n",
       "      <td>75</td>\n",
       "      <td>3.945256e+16</td>\n",
       "    </tr>\n",
       "    <tr>\n",
       "      <th>5</th>\n",
       "      <td>95</td>\n",
       "      <td>7.642728e+17</td>\n",
       "    </tr>\n",
       "    <tr>\n",
       "      <th>6</th>\n",
       "      <td>99</td>\n",
       "      <td>5.129267e+18</td>\n",
       "    </tr>\n",
       "  </tbody>\n",
       "</table>\n",
       "</div>"
      ],
      "text/plain": [
       "   Percentile  Operations per second\n",
       "0           1           2.926178e+11\n",
       "1           5           3.113016e+12\n",
       "2          25           2.307572e+14\n",
       "3          50           4.015672e+15\n",
       "4          75           3.945256e+16\n",
       "5          95           7.642728e+17\n",
       "6          99           5.129267e+18"
      ]
     },
     "execution_count": 34,
     "metadata": {},
     "output_type": "execute_result"
    },
    {
     "data": {
      "image/png": "[encoded data removed]",
      "text/plain": [
       "<Figure size 432x288 with 1 Axes>"
      ]
     },
     "metadata": {},
     "output_type": "display_data"
    }
   ],
   "source": [
    "from sklearn.neighbors import KernelDensity\n",
    "from sklearn.model_selection import GridSearchCV\n",
    "from sklearn.model_selection import LeaveOneOut\n",
    "\n",
    "x = np.linspace(10, 20).reshape(-1, 1)\n",
    "brain_flops = brain_flops.reshape(-1, 1)\n",
    "bandwidths = 10 ** np.linspace(-1, 1)\n",
    "grid = GridSearchCV(KernelDensity(kernel='gaussian'),\n",
    "                    {'bandwidth': bandwidths},\n",
    "                    cv=LeaveOneOut())\n",
    "grid.fit(brain_flops);\n",
    "bw = grid.best_params_['bandwidth']\n",
    "kde = KernelDensity(bandwidth=bw, kernel='gaussian')\n",
    "kde.fit(brain_flops)\n",
    "brain_compute = 10**kde.sample(n)[:,0]\n",
    "\n",
    "plt.hist(brain_flops,\n",
    "         bins=5,\n",
    "         histtype='stepfilled',\n",
    "         density=True,\n",
    "         label=\"Estimates\");\n",
    "plt.plot(x, np.exp(kde.score_samples(x)), label=\"KDE\");\n",
    "plt.xlabel(\"Operations per second (log)\");\n",
    "plt.ylabel(\"Frequency\");\n",
    "plt.legend()\n",
    "summary(brain_compute, \"Operations per second\")"
   ]
  },
  {
   "cell_type": "markdown",
   "metadata": {},
   "source": [
    "## Subjective-Lifespan of AI\n",
    "\n",
    "How long does each AI have to live (in subjective time) in order to become generally competent enough to take significant strategic action in the world, and then actually take this action? This could be comparable to human lifetimes or substantially shorter. We will err towards the side of \"substantially shorter\"."
   ]
  },
  {
   "cell_type": "code",
   "execution_count": 35,
   "metadata": {
    "scrolled": true
   },
   "outputs": [
    {
     "data": {
      "text/html": [
       "<div>\n",
       "<style scoped>\n",
       "    .dataframe tbody tr th:only-of-type {\n",
       "        vertical-align: middle;\n",
       "    }\n",
       "\n",
       "    .dataframe tbody tr th {\n",
       "        vertical-align: top;\n",
       "    }\n",
       "\n",
       "    .dataframe thead th {\n",
       "        text-align: right;\n",
       "    }\n",
       "</style>\n",
       "<table border=\"1\" class=\"dataframe\">\n",
       "  <thead>\n",
       "    <tr style=\"text-align: right;\">\n",
       "      <th></th>\n",
       "      <th>Percentile</th>\n",
       "      <th>Years</th>\n",
       "    </tr>\n",
       "  </thead>\n",
       "  <tbody>\n",
       "    <tr>\n",
       "      <th>0</th>\n",
       "      <td>1</td>\n",
       "      <td>0.334516</td>\n",
       "    </tr>\n",
       "    <tr>\n",
       "      <th>1</th>\n",
       "      <td>5</td>\n",
       "      <td>0.417490</td>\n",
       "    </tr>\n",
       "    <tr>\n",
       "      <th>2</th>\n",
       "      <td>25</td>\n",
       "      <td>1.313593</td>\n",
       "    </tr>\n",
       "    <tr>\n",
       "      <th>3</th>\n",
       "      <td>50</td>\n",
       "      <td>5.474537</td>\n",
       "    </tr>\n",
       "    <tr>\n",
       "      <th>4</th>\n",
       "      <td>75</td>\n",
       "      <td>23.136432</td>\n",
       "    </tr>\n",
       "    <tr>\n",
       "      <th>5</th>\n",
       "      <td>95</td>\n",
       "      <td>74.352380</td>\n",
       "    </tr>\n",
       "    <tr>\n",
       "      <th>6</th>\n",
       "      <td>99</td>\n",
       "      <td>93.907044</td>\n",
       "    </tr>\n",
       "  </tbody>\n",
       "</table>\n",
       "</div>"
      ],
      "text/plain": [
       "   Percentile      Years\n",
       "0           1   0.334516\n",
       "1           5   0.417490\n",
       "2          25   1.313593\n",
       "3          50   5.474537\n",
       "4          75  23.136432\n",
       "5          95  74.352380\n",
       "6          99  93.907044"
      ]
     },
     "execution_count": 35,
     "metadata": {},
     "output_type": "execute_result"
    },
    {
     "data": {
      "image/png": "[encoded data removed]",
      "text/plain": [
       "<Figure size 432x288 with 1 Axes>"
      ]
     },
     "metadata": {},
     "output_type": "display_data"
    }
   ],
   "source": [
    "from scipy.stats import lognorm\n",
    "\n",
    "# longevity in days\n",
    "longevity = loguniform(high=2, low=-.5, size=n)\n",
    "\n",
    "plt.hist(longevity, bins=50, log=True);\n",
    "plt.xlabel('Lifetime (years)');\n",
    "plt.ylabel('Frequency (log-plot)');\n",
    "summary(longevity, 'Years')"
   ]
  },
  {
   "cell_type": "markdown",
   "metadata": {},
   "source": [
    "# Comparisons to AlphaGo Zero"
   ]
  },
  {
   "cell_type": "markdown",
   "metadata": {},
   "source": [
    "### AlphaGo Zero Training Time\n",
    "This model uses DeepMind's [AlphaGo Zero](https://www.nature.com/articles/nature24270) as a benchmark, which beat the superhuman Go AI *AlphaGo Lee* 36 hours into its initial three-day training period. *AlphaGo Zero* played ~4.9 million games during this period, so *AlphaGo Zero* obtained superhuman performance after roughly 2.5 million games."
   ]
  },
  {
   "cell_type": "code",
   "execution_count": 36,
   "metadata": {},
   "outputs": [],
   "source": [
    "# number of games played by AlphaGo Zero\n",
    "agz_games = 2.5e6"
   ]
  },
  {
   "cell_type": "markdown",
   "metadata": {},
   "source": [
    "### Sample Efficiency of General Intelligence Compared to Go\n",
    "\n",
    "A ratio of one would mean that, in the future, AI researchers discover an AI architecture that is as efficient ag learning general action in the world as AlphaZero is at learning Go. A ratio of _1000_ would mean it takes 1000 times as many lifetimes per unit of learning compared with AlphaZero. It is plausible that useful architectures could be learned from neuroscience, although this would require large advances in the neuroscience field (see [Could a Neuroscientist Understand a Microprocessor?\n",
    "](http://journals.plos.org/ploscompbiol/article?id=10.1371/journal.pcbi.1005268)). We can think of this as a *difficulty ratio*.\n",
    "\n",
    "This parameter is essentially impossible to estimate in a principled way, so we'll be a bit sloppy. To begin thinking about this, consider that *AlphaGo Zero* takes as input a 19-by-19 Go board (and the previous 16 board states). Each square can take one of three states (black, white, or empty) and there can be at most $19 \\times 19 \\times 2 = 722$ moves in a game, so each game provides at most $722 \\times \\log_2(3^{19\\times19})\\approx4.1\\times 10^5$ bits of information. By comparison, the human optic nerve carries $\\sim6\\times 10^6$ bits per second ([see Raichle (2010)](http://www.brainm.com/software/pubs/dg/Hubs-Networks/Raichle_M.E--TwoViewof%20Brain.pdf)), or $\\sim5\\times10^{11}$ bits in a 24-hour period. Natural imagery and Go boards are both highly compressible, but a difference of this size suggests that we should probably be very surprised if the difficulty ratio were small. \n",
    "\n",
    "It's hard to tell whether or not our particular distribution is reasonable, but it's worth noting that simple neural networks have been around a very long time. Estimates derived from molecular clock studies on homologous genes suggest that sponges, jellyfish, and cone jellies diverged in the [Mesoproterozoic](https://www.ncbi.nlm.nih.gov/pmc/articles/PMC1689654/) over one billion years ago. Quite a lot of computation can happen over long geological time scales."
   ]
  },
  {
   "cell_type": "code",
   "execution_count": 37,
   "metadata": {},
   "outputs": [
    {
     "data": {
      "text/html": [
       "<div>\n",
       "<style scoped>\n",
       "    .dataframe tbody tr th:only-of-type {\n",
       "        vertical-align: middle;\n",
       "    }\n",
       "\n",
       "    .dataframe tbody tr th {\n",
       "        vertical-align: top;\n",
       "    }\n",
       "\n",
       "    .dataframe thead th {\n",
       "        text-align: right;\n",
       "    }\n",
       "</style>\n",
       "<table border=\"1\" class=\"dataframe\">\n",
       "  <thead>\n",
       "    <tr style=\"text-align: right;\">\n",
       "      <th></th>\n",
       "      <th>Percentile</th>\n",
       "      <th>Difficulty Ratio</th>\n",
       "    </tr>\n",
       "  </thead>\n",
       "  <tbody>\n",
       "    <tr>\n",
       "      <th>0</th>\n",
       "      <td>1</td>\n",
       "      <td>2.054450e+05</td>\n",
       "    </tr>\n",
       "    <tr>\n",
       "      <th>1</th>\n",
       "      <td>5</td>\n",
       "      <td>4.017578e+06</td>\n",
       "    </tr>\n",
       "    <tr>\n",
       "      <th>2</th>\n",
       "      <td>25</td>\n",
       "      <td>1.029188e+13</td>\n",
       "    </tr>\n",
       "    <tr>\n",
       "      <th>3</th>\n",
       "      <td>50</td>\n",
       "      <td>1.008063e+21</td>\n",
       "    </tr>\n",
       "    <tr>\n",
       "      <th>4</th>\n",
       "      <td>75</td>\n",
       "      <td>1.171638e+29</td>\n",
       "    </tr>\n",
       "    <tr>\n",
       "      <th>5</th>\n",
       "      <td>95</td>\n",
       "      <td>2.907911e+35</td>\n",
       "    </tr>\n",
       "    <tr>\n",
       "      <th>6</th>\n",
       "      <td>99</td>\n",
       "      <td>5.188879e+36</td>\n",
       "    </tr>\n",
       "  </tbody>\n",
       "</table>\n",
       "</div>"
      ],
      "text/plain": [
       "   Percentile  Difficulty Ratio\n",
       "0           1      2.054450e+05\n",
       "1           5      4.017578e+06\n",
       "2          25      1.029188e+13\n",
       "3          50      1.008063e+21\n",
       "4          75      1.171638e+29\n",
       "5          95      2.907911e+35\n",
       "6          99      5.188879e+36"
      ]
     },
     "execution_count": 37,
     "metadata": {},
     "output_type": "execute_result"
    },
    {
     "data": {
      "image/png": "[encoded data removed]",
      "text/plain": [
       "<Figure size 432x288 with 1 Axes>"
      ]
     },
     "metadata": {},
     "output_type": "display_data"
    }
   ],
   "source": [
    "difficulty = loguniform(low=5, high=37, size=n)\n",
    "\n",
    "plt.hist(difficulty, bins=50, log=True);\n",
    "plt.xlabel('Difficulty Ratio');\n",
    "plt.ylabel('Frequency (log-scale)');\n",
    "summary(difficulty, 'Difficulty Ratio')"
   ]
  },
  {
   "cell_type": "markdown",
   "metadata": {},
   "source": [
    "### Number of Hyperparameter Tuning Attempts\n",
    "The AlphaGo Zero paper implies that a few different variations were trained in parallel during the initial training period, as is common practice for large deep learning projects. We should expect something similar in the scenario under consideration."
   ]
  },
  {
   "cell_type": "code",
   "execution_count": 38,
   "metadata": {
    "scrolled": true
   },
   "outputs": [
    {
     "data": {
      "text/html": [
       "<div>\n",
       "<style scoped>\n",
       "    .dataframe tbody tr th:only-of-type {\n",
       "        vertical-align: middle;\n",
       "    }\n",
       "\n",
       "    .dataframe tbody tr th {\n",
       "        vertical-align: top;\n",
       "    }\n",
       "\n",
       "    .dataframe thead th {\n",
       "        text-align: right;\n",
       "    }\n",
       "</style>\n",
       "<table border=\"1\" class=\"dataframe\">\n",
       "  <thead>\n",
       "    <tr style=\"text-align: right;\">\n",
       "      <th></th>\n",
       "      <th>Percentile</th>\n",
       "      <th>Tuning Attempts</th>\n",
       "    </tr>\n",
       "  </thead>\n",
       "  <tbody>\n",
       "    <tr>\n",
       "      <th>0</th>\n",
       "      <td>1</td>\n",
       "      <td>1.033877</td>\n",
       "    </tr>\n",
       "    <tr>\n",
       "      <th>1</th>\n",
       "      <td>5</td>\n",
       "      <td>1.184992</td>\n",
       "    </tr>\n",
       "    <tr>\n",
       "      <th>2</th>\n",
       "      <td>25</td>\n",
       "      <td>2.368868</td>\n",
       "    </tr>\n",
       "    <tr>\n",
       "      <th>3</th>\n",
       "      <td>50</td>\n",
       "      <td>5.646292</td>\n",
       "    </tr>\n",
       "    <tr>\n",
       "      <th>4</th>\n",
       "      <td>75</td>\n",
       "      <td>13.410038</td>\n",
       "    </tr>\n",
       "    <tr>\n",
       "      <th>5</th>\n",
       "      <td>95</td>\n",
       "      <td>26.650292</td>\n",
       "    </tr>\n",
       "    <tr>\n",
       "      <th>6</th>\n",
       "      <td>99</td>\n",
       "      <td>30.568390</td>\n",
       "    </tr>\n",
       "  </tbody>\n",
       "</table>\n",
       "</div>"
      ],
      "text/plain": [
       "   Percentile  Tuning Attempts\n",
       "0           1         1.033877\n",
       "1           5         1.184992\n",
       "2          25         2.368868\n",
       "3          50         5.646292\n",
       "4          75        13.410038\n",
       "5          95        26.650292\n",
       "6          99        30.568390"
      ]
     },
     "execution_count": 38,
     "metadata": {},
     "output_type": "execute_result"
    },
    {
     "data": {
      "image/png": "[encoded data removed]",
      "text/plain": [
       "<Figure size 432x288 with 1 Axes>"
      ]
     },
     "metadata": {},
     "output_type": "display_data"
    }
   ],
   "source": [
    "hyperparameters = loguniform(high=1.5, low=0, size=n)\n",
    "plt.hist(hyperparameters, bins=50);\n",
    "plt.xlabel(\"Number of Tuning Attempts\");\n",
    "plt.ylabel(\"Frequency\");\n",
    "summary(hyperparameters, 'Tuning Attempts')"
   ]
  },
  {
   "cell_type": "markdown",
   "metadata": {},
   "source": [
    "## Future Hardware Improvements"
   ]
  },
  {
   "cell_type": "markdown",
   "metadata": {},
   "source": [
    "### Trends in Computing Costs\n",
    "\n",
    "While machine learning [ASICs](https://en.wikipedia.org/wiki/Application-specific_integrated_circuit) like TPUs are likely the future, the recent deep learning boom was powered by GPUs. Commonly mentioned figures for the price-performance generalization of Moore's Law suggest that price-performance doubles roughly every two years, but it's worth checking this figure against the observed price-performance changes in GPUs. The file `gpu.csv` contains the model name, launch date, single precision performance in GFLOPS, and release price in non-inflation-adjusted US dollars for 223 Nvidia and AMD GPUs (scraped from Wikipedia). The dataset covers almost two decades, so we will need to adjust the prices for inflation using the [Consumer Price Index](https://fred.stlouisfed.org/series/CPIAUCNS).\n",
    "\n",
    "This notably neglects several important features:\n",
    "\n",
    "- Much of the work that has been done in the past several years has been focused on reducing energy usage, which we don't attempt to capture with our focus on naive price-performance.\n",
    "- The large proportion of the cost of running a data center today comes from electricity usage, not fixed capital like computing hardware.\n",
    "- We are not considering the costs of other components, or attempting to project changes in their price performance.\n",
    "- This does not consider the labor and engineering costs for such a project, which will almost certainly be very substantial.\n",
    "\n",
    "However, it's an easy quantity to work with and provides some insight."
   ]
  },
  {
   "cell_type": "code",
   "execution_count": 39,
   "metadata": {},
   "outputs": [
    {
     "name": "stdout",
     "output_type": "stream",
     "text": [
      "r = 0.716\n"
     ]
    },
    {
     "data": {
      "image/png": "[encoded data removed]",
      "text/plain": [
       "<Figure size 432x288 with 1 Axes>"
      ]
     },
     "metadata": {},
     "output_type": "display_data"
    }
   ],
   "source": [
    "gpu = pd.read_csv(\"gpu.csv\")\n",
    "gpu['Date'] = pd.to_datetime(gpu['Date'], infer_datetime_format=True)\n",
    "\n",
    "cpi = pd.read_csv(\"cpi.csv\")\n",
    "cpi['Date'] = pd.to_datetime(cpi['Date'], infer_datetime_format=True)\n",
    "# Price multiplier to convert to 2018$\n",
    "cpi['Price Multiplier'] = cpi['CPI'].iloc[-1] / cpi['CPI']\n",
    "\n",
    "gpu = pd.merge_asof(\n",
    "    gpu, cpi.filter(\n",
    "        items=['Date', 'Price Multiplier']),\n",
    "        on='Date',\n",
    "        direction='nearest')\n",
    "\n",
    "# Adjust prices for inflation\n",
    "gpu['Adjusted Price (2018$)'] = gpu['Release Price (USD)'] * gpu['Price Multiplier']\n",
    "# Inflation adjusted performance cost\n",
    "gpu['FLOPS per 2018$'] = gpu['GFLOPS'] / gpu['Adjusted Price (2018$)'] * 10**9\n",
    "\n",
    "# Convert dates to unix time\n",
    "time, y = gpu['Date'].astype(np.int64) / 10**9, gpu['FLOPS per 2018$']\n",
    "\n",
    "# Linear regression in log-space\n",
    "#rate, constant = np.polyfit(time, np.log(y), 1, w=np.sqrt(y))\n",
    "rate, constant = np.polyfit(time, np.log(y), 1)\n",
    "\n",
    "gpu['Fit Exponential'] = pd.Series(np.exp(constant) * np.exp(rate*time))\n",
    "gpu.plot(x='Date', y=['FLOPS per 2018$', 'Fit Exponential'], style=['.','-'])\n",
    "#plt.savefig('gpu_full.png')\n",
    "# Pearson's r (correlation coefficient)\n",
    "print('r = {:.3f}'.format(gpu['FLOPS per 2018$'].corr(gpu['Fit Exponential'])))"
   ]
  },
  {
   "cell_type": "markdown",
   "metadata": {},
   "source": [
    "This implies a doubling time of ~1.5 years."
   ]
  },
  {
   "cell_type": "code",
   "execution_count": 40,
   "metadata": {
    "scrolled": false
   },
   "outputs": [
    {
     "name": "stdout",
     "output_type": "stream",
     "text": [
      "Doubling time: 1.48 years\n"
     ]
    }
   ],
   "source": [
    "doubling_time = 1 / (np.log2(np.e) * rate * 3600 * 24 * 365)\n",
    "print(\"Doubling time: {:.2f} years\".format(doubling_time))"
   ]
  },
  {
   "cell_type": "markdown",
   "metadata": {},
   "source": [
    "It should be noted that this is somewhat misleading because the price-performance curve isn't a clean exponential. An exponential curve appears linear in log-space, whereas the price-performance curve is sub-linear. Inspecting a log-plot suggests that price-performance has been in a distinctly slower growth regime since around 2012. "
   ]
  },
  {
   "cell_type": "code",
   "execution_count": 41,
   "metadata": {
    "scrolled": true
   },
   "outputs": [
    {
     "data": {
      "image/png": "[encoded data removed]",
      "text/plain": [
       "<Figure size 432x288 with 1 Axes>"
      ]
     },
     "metadata": {},
     "output_type": "display_data"
    }
   ],
   "source": [
    "gpu.plot(x='Date', y='FLOPS per 2018$', style='.', logy=True);\n",
    "#plt.savefig('gpu_log.png')"
   ]
  },
  {
   "cell_type": "markdown",
   "metadata": {},
   "source": [
    "Fitting a curve to data from 2012 onward yields a doubling time of ~3.9 years."
   ]
  },
  {
   "cell_type": "code",
   "execution_count": 42,
   "metadata": {},
   "outputs": [
    {
     "name": "stdout",
     "output_type": "stream",
     "text": [
      "r = 0.673\n",
      "Doubling time: 3.93 years\n"
     ]
    },
    {
     "data": {
      "image/png": "[encoded data removed]",
      "text/plain": [
       "<Figure size 432x288 with 1 Axes>"
      ]
     },
     "metadata": {},
     "output_type": "display_data"
    }
   ],
   "source": [
    "gpu = gpu[gpu['Date'] > pd.Timestamp('2012-01-01')]\n",
    "\n",
    "# Convert dates to unix time\n",
    "time, y = gpu['Date'].astype(np.int64) / 10**9, gpu['FLOPS per 2018$']\n",
    "\n",
    "# Linear regression in log-space\n",
    "rate, constant = np.polyfit(time, np.log(y), 1, w=np.sqrt(y))\n",
    "gpu['Fit Exponential'] = pd.Series(np.exp(constant) * np.exp(rate*time))\n",
    "# Pearson's r (correlation coefficient)\n",
    "gpu.plot(x='Date', y=['FLOPS per 2018$', 'Fit Exponential'], style=['.','-'])\n",
    "#plt.savefig('gpu_recent.png')\n",
    "print('r = {:.3f}'.format(gpu['FLOPS per 2018$'].corr(gpu['Fit Exponential'])))\n",
    "doubling_time = 1 / (np.log2(np.e) * rate * 3600 * 24 * 365)\n",
    "print(\"Doubling time: {:.2f} years\".format(doubling_time))"
   ]
  },
  {
   "cell_type": "markdown",
   "metadata": {},
   "source": [
    "It is unclear how long even this reduced rate of growth can continue, and these improvements are expected to break down in the coming decades, with more than an additional 10-12 doublings being very unlikely within the current paradigm. The question of whether and how the trend will continue, perhaps through breakthroughs in [spintronics](https://en.wikipedia.org/wiki/Spintronics) or further improvements in [3D integrated circuits](https://en.wikipedia.org/wiki/Three-dimensional_integrated_circuit), is beyond the scope of this document."
   ]
  },
  {
   "cell_type": "markdown",
   "metadata": {},
   "source": [
    "### Architecture-Specific Improvements\n",
    "So far, TPUs have been one generation behind the cutting-edge of semiconductor fabrication. Private communication with experts in the field suggests that a further one to two orders of magnitude of improvement in price-performance from technological progress and economies of scale is likely, with more not being out of the question."
   ]
  },
  {
   "cell_type": "code",
   "execution_count": 43,
   "metadata": {},
   "outputs": [
    {
     "data": {
      "text/html": [
       "<div>\n",
       "<style scoped>\n",
       "    .dataframe tbody tr th:only-of-type {\n",
       "        vertical-align: middle;\n",
       "    }\n",
       "\n",
       "    .dataframe tbody tr th {\n",
       "        vertical-align: top;\n",
       "    }\n",
       "\n",
       "    .dataframe thead th {\n",
       "        text-align: right;\n",
       "    }\n",
       "</style>\n",
       "<table border=\"1\" class=\"dataframe\">\n",
       "  <thead>\n",
       "    <tr style=\"text-align: right;\">\n",
       "      <th></th>\n",
       "      <th>Percentile</th>\n",
       "      <th>Factor of Improvement</th>\n",
       "    </tr>\n",
       "  </thead>\n",
       "  <tbody>\n",
       "    <tr>\n",
       "      <th>0</th>\n",
       "      <td>1</td>\n",
       "      <td>10.364245</td>\n",
       "    </tr>\n",
       "    <tr>\n",
       "      <th>1</th>\n",
       "      <td>5</td>\n",
       "      <td>11.898779</td>\n",
       "    </tr>\n",
       "    <tr>\n",
       "      <th>2</th>\n",
       "      <td>25</td>\n",
       "      <td>23.586700</td>\n",
       "    </tr>\n",
       "    <tr>\n",
       "      <th>3</th>\n",
       "      <td>50</td>\n",
       "      <td>55.881355</td>\n",
       "    </tr>\n",
       "    <tr>\n",
       "      <th>4</th>\n",
       "      <td>75</td>\n",
       "      <td>132.640638</td>\n",
       "    </tr>\n",
       "    <tr>\n",
       "      <th>5</th>\n",
       "      <td>95</td>\n",
       "      <td>264.910053</td>\n",
       "    </tr>\n",
       "    <tr>\n",
       "      <th>6</th>\n",
       "      <td>99</td>\n",
       "      <td>304.889214</td>\n",
       "    </tr>\n",
       "  </tbody>\n",
       "</table>\n",
       "</div>"
      ],
      "text/plain": [
       "   Percentile  Factor of Improvement\n",
       "0           1              10.364245\n",
       "1           5              11.898779\n",
       "2          25              23.586700\n",
       "3          50              55.881355\n",
       "4          75             132.640638\n",
       "5          95             264.910053\n",
       "6          99             304.889214"
      ]
     },
     "execution_count": 43,
     "metadata": {},
     "output_type": "execute_result"
    },
    {
     "data": {
      "image/png": "[encoded data removed]",
      "text/plain": [
       "<Figure size 432x288 with 1 Axes>"
      ]
     },
     "metadata": {},
     "output_type": "display_data"
    }
   ],
   "source": [
    "tpu_improvement = loguniform(low=1, high=2.5, size=n)\n",
    "plt.hist(tpu_improvement, bins=50, log=True);\n",
    "plt.xlabel(\"Factor of Improvement\");\n",
    "plt.ylabel(\"Frequency (log-scale)\");\n",
    "summary(tpu_improvement, 'Factor of Improvement')"
   ]
  },
  {
   "cell_type": "markdown",
   "metadata": {},
   "source": [
    "## Computational Requirements"
   ]
  },
  {
   "cell_type": "markdown",
   "metadata": {},
   "source": [
    "The estimated computational requirements are summarized below."
   ]
  },
  {
   "cell_type": "code",
   "execution_count": 44,
   "metadata": {},
   "outputs": [
    {
     "data": {
      "text/html": [
       "<div>\n",
       "<style scoped>\n",
       "    .dataframe tbody tr th:only-of-type {\n",
       "        vertical-align: middle;\n",
       "    }\n",
       "\n",
       "    .dataframe tbody tr th {\n",
       "        vertical-align: top;\n",
       "    }\n",
       "\n",
       "    .dataframe thead th {\n",
       "        text-align: right;\n",
       "    }\n",
       "</style>\n",
       "<table border=\"1\" class=\"dataframe\">\n",
       "  <thead>\n",
       "    <tr style=\"text-align: right;\">\n",
       "      <th></th>\n",
       "      <th>Percentile</th>\n",
       "      <th>Operations</th>\n",
       "    </tr>\n",
       "  </thead>\n",
       "  <tbody>\n",
       "    <tr>\n",
       "      <th>0</th>\n",
       "      <td>1</td>\n",
       "      <td>1.199615e+32</td>\n",
       "    </tr>\n",
       "    <tr>\n",
       "      <th>1</th>\n",
       "      <td>5</td>\n",
       "      <td>4.659938e+34</td>\n",
       "    </tr>\n",
       "    <tr>\n",
       "      <th>2</th>\n",
       "      <td>25</td>\n",
       "      <td>1.806512e+41</td>\n",
       "    </tr>\n",
       "    <tr>\n",
       "      <th>3</th>\n",
       "      <td>50</td>\n",
       "      <td>1.754430e+49</td>\n",
       "    </tr>\n",
       "    <tr>\n",
       "      <th>4</th>\n",
       "      <td>75</td>\n",
       "      <td>2.146480e+57</td>\n",
       "    </tr>\n",
       "    <tr>\n",
       "      <th>5</th>\n",
       "      <td>95</td>\n",
       "      <td>9.705500e+63</td>\n",
       "    </tr>\n",
       "    <tr>\n",
       "      <th>6</th>\n",
       "      <td>99</td>\n",
       "      <td>2.164436e+66</td>\n",
       "    </tr>\n",
       "  </tbody>\n",
       "</table>\n",
       "</div>"
      ],
      "text/plain": [
       "   Percentile    Operations\n",
       "0           1  1.199615e+32\n",
       "1           5  4.659938e+34\n",
       "2          25  1.806512e+41\n",
       "3          50  1.754430e+49\n",
       "4          75  2.146480e+57\n",
       "5          95  9.705500e+63\n",
       "6          99  2.164436e+66"
      ]
     },
     "execution_count": 44,
     "metadata": {},
     "output_type": "execute_result"
    },
    {
     "data": {
      "image/png": "[encoded data removed]",
      "text/plain": [
       "<Figure size 432x288 with 1 Axes>"
      ]
     },
     "metadata": {},
     "output_type": "display_data"
    }
   ],
   "source": [
    "# Number of arithmetic operations to simulate a lifetime\n",
    "lifetime_compute = brain_compute * longevity * 3600 * 24\n",
    "# Number of simulated lifetimes needed to train an AGI\n",
    "lifetimes = hyperparameters * difficulty * agz_games\n",
    "# Number of arithmetic operations to train an AGI\n",
    "agi_compute = lifetime_compute * lifetimes\n",
    "plt.hist(agi_compute, bins=100, log=True);\n",
    "plt.xlabel(\"Number of Operations\");\n",
    "plt.ylabel(\"Frequency (log-scale)\");\n",
    "\n",
    "summary(agi_compute, 'Operations')"
   ]
  },
  {
   "cell_type": "markdown",
   "metadata": {},
   "source": [
    "## Economic Considerations"
   ]
  },
  {
   "cell_type": "markdown",
   "metadata": {},
   "source": [
    "### Monetary resources available for AGI (in inflation-adjusted 2018 dollars)\n",
    "The total revenue of the semi-conductor industry in 2017 was a bit over 400 billion USD and has been increasing linearly as a function of time since the mid-1980s. This is remarkable given that this period saw the rise of personal computing, the birth of the web, and much of the information revolution. Extrapolating this trend suggests that the revenue won't reach one trillion USD for more than a century. Given that we are considering costs of specific hardware components and the time and expense associated with building new semiconductor fabs, this suggests that physical production may impose a hard limit on how much can be spent."
   ]
  },
  {
   "cell_type": "code",
   "execution_count": 45,
   "metadata": {},
   "outputs": [
    {
     "name": "stdout",
     "output_type": "stream",
     "text": [
      "r = 0.957\n",
      "Years to reach one trillion USD: 107.62\n"
     ]
    },
    {
     "data": {
      "image/png": "[encoded data removed]",
      "text/plain": [
       "<Figure size 432x288 with 1 Axes>"
      ]
     },
     "metadata": {},
     "output_type": "display_data"
    }
   ],
   "source": [
    "semiconductors = pd.read_csv(\"semiconductor.csv\")\n",
    "semiconductors[\"Date\"] = pd.to_datetime(semiconductors['Date'] + 1, format=\"%Y\")\n",
    "\n",
    "# adjust for inflation, convert to USD\n",
    "semiconductors = pd.merge_asof(\n",
    "    semiconductors,\n",
    "    cpi.filter(items=['Date', 'Price Multiplier']),\n",
    "    on='Date',\n",
    "    direction='nearest')\n",
    "semiconductors['Adjusted Sales (2018$)'] = semiconductors['Sales (Thousands of USD)'] * semiconductors['Price Multiplier'] * 1000\n",
    "\n",
    "# unix time\n",
    "time = semiconductors['Date'].astype(np.int64) / 10**9\n",
    "y = semiconductors['Adjusted Sales (2018$)']\n",
    "\n",
    "# linear regression\n",
    "slope, intercept = np.polyfit(time, y, 1)\n",
    "semiconductors['Fit Line'] = pd.Series(intercept + slope * time)\n",
    "\n",
    "semiconductors.plot(x='Date',\n",
    "                    y=['Adjusted Sales (2018$)', 'Fit Line'],\n",
    "                    style=['.', '-'])\n",
    "\n",
    "print('r = {:.3f}'.format(\n",
    "    semiconductors['Adjusted Sales (2018$)'].corr(\n",
    "        semiconductors['Fit Line'])))\n",
    "print(\"Years to reach one trillion USD: {:.2f}\".format(\n",
    "    (1e12 - intercept) / slope / (3600*24*365)))"
   ]
  },
  {
   "cell_type": "markdown",
   "metadata": {},
   "source": [
    "Also worth noting is that both the [Apollo Program](https://en.wikipedia.org/wiki/Apollo_program) and the [Manhattan Project](https://en.wikipedia.org/wiki/Manhattan_Project) each cost just under half of one percent \n",
    "[Gross World Product](http://holtz.org/Library/Social%20Science/Economics/Estimating%20World%20GDP%20by%20DeLong/Estimating%20World%20GDP.htm), and were regarded as hugely expensive and unsustainable efforts. "
   ]
  },
  {
   "cell_type": "code",
   "execution_count": 46,
   "metadata": {},
   "outputs": [
    {
     "data": {
      "text/html": [
       "<div>\n",
       "<style scoped>\n",
       "    .dataframe tbody tr th:only-of-type {\n",
       "        vertical-align: middle;\n",
       "    }\n",
       "\n",
       "    .dataframe tbody tr th {\n",
       "        vertical-align: top;\n",
       "    }\n",
       "\n",
       "    .dataframe thead th {\n",
       "        text-align: right;\n",
       "    }\n",
       "</style>\n",
       "<table border=\"1\" class=\"dataframe\">\n",
       "  <thead>\n",
       "    <tr style=\"text-align: right;\">\n",
       "      <th></th>\n",
       "      <th>Project</th>\n",
       "      <th>Percent of GWP</th>\n",
       "    </tr>\n",
       "  </thead>\n",
       "  <tbody>\n",
       "    <tr>\n",
       "      <th>0</th>\n",
       "      <td>Manhattan Project</td>\n",
       "      <td>0.407120</td>\n",
       "    </tr>\n",
       "    <tr>\n",
       "      <th>1</th>\n",
       "      <td>Apollo Program</td>\n",
       "      <td>0.474081</td>\n",
       "    </tr>\n",
       "  </tbody>\n",
       "</table>\n",
       "</div>"
      ],
      "text/plain": [
       "             Project  Percent of GWP\n",
       "0  Manhattan Project        0.407120\n",
       "1     Apollo Program        0.474081"
      ]
     },
     "execution_count": 46,
     "metadata": {},
     "output_type": "execute_result"
    }
   ],
   "source": [
    "projects = pd.DataFrame(data={\"Project\":[\"Manhattan Project\",\n",
    "                                         \"Apollo Program\"],\n",
    "                              \"Cost\":[2e9, 25.4e9],\n",
    "                              \"Date\":[\"1940-01-01\", \"1973-01-01\"],\n",
    "                              \"GWP (1990$)\":[4502584e6, 16022888e6]})\n",
    "\n",
    "projects['Date'] = pd.to_datetime(projects['Date'],\n",
    "                                  infer_datetime_format=True)\n",
    "projects = pd.merge_asof(projects,\n",
    "                         cpi.filter(items=['Date', 'Price Multiplier']),\n",
    "                         on='Date',\n",
    "                         direction='nearest')\n",
    "\n",
    "projects['Cost'] = projects['Cost'] * projects['Price Multiplier']\n",
    "projects['GWP (2018$)'] = (projects['GWP (1990$)'] *\n",
    "                           float(cpi[cpi['Date'] == \n",
    "                                     '1990-01-01']['Price Multiplier']))\n",
    "\n",
    "projects['Percent of GWP'] = projects['Cost'] / projects['GWP (2018$)'] * 100\n",
    "projects[['Project', 'Percent of GWP']]"
   ]
  },
  {
   "cell_type": "markdown",
   "metadata": {},
   "source": [
    "Gross World Product is currently estimated to be around \\$80 trillion and [projected](https://data.oecd.org/gdp/gdp-long-term-forecast.htm) to be \\$38 trillion in 2060. Taking these numbers as a guide, it seems unlikely that expenditures would exceed \\\\$1 trillion before the late 21st century, and in all likelihood not even that."
   ]
  },
  {
   "cell_type": "code",
   "execution_count": 47,
   "metadata": {
    "scrolled": true
   },
   "outputs": [
    {
     "data": {
      "text/html": [
       "<div>\n",
       "<style scoped>\n",
       "    .dataframe tbody tr th:only-of-type {\n",
       "        vertical-align: middle;\n",
       "    }\n",
       "\n",
       "    .dataframe tbody tr th {\n",
       "        vertical-align: top;\n",
       "    }\n",
       "\n",
       "    .dataframe thead th {\n",
       "        text-align: right;\n",
       "    }\n",
       "</style>\n",
       "<table border=\"1\" class=\"dataframe\">\n",
       "  <thead>\n",
       "    <tr style=\"text-align: right;\">\n",
       "      <th></th>\n",
       "      <th>Percentile</th>\n",
       "      <th>AGI Budget (2018$)</th>\n",
       "    </tr>\n",
       "  </thead>\n",
       "  <tbody>\n",
       "    <tr>\n",
       "      <th>0</th>\n",
       "      <td>1</td>\n",
       "      <td>1.047156e+10</td>\n",
       "    </tr>\n",
       "    <tr>\n",
       "      <th>1</th>\n",
       "      <td>5</td>\n",
       "      <td>1.266899e+10</td>\n",
       "    </tr>\n",
       "    <tr>\n",
       "      <th>2</th>\n",
       "      <td>25</td>\n",
       "      <td>3.209692e+10</td>\n",
       "    </tr>\n",
       "    <tr>\n",
       "      <th>3</th>\n",
       "      <td>50</td>\n",
       "      <td>1.006332e+11</td>\n",
       "    </tr>\n",
       "    <tr>\n",
       "      <th>4</th>\n",
       "      <td>75</td>\n",
       "      <td>3.202036e+11</td>\n",
       "    </tr>\n",
       "    <tr>\n",
       "      <th>5</th>\n",
       "      <td>95</td>\n",
       "      <td>7.982820e+11</td>\n",
       "    </tr>\n",
       "    <tr>\n",
       "      <th>6</th>\n",
       "      <td>99</td>\n",
       "      <td>9.526886e+11</td>\n",
       "    </tr>\n",
       "  </tbody>\n",
       "</table>\n",
       "</div>"
      ],
      "text/plain": [
       "   Percentile  AGI Budget (2018$)\n",
       "0           1        1.047156e+10\n",
       "1           5        1.266899e+10\n",
       "2          25        3.209692e+10\n",
       "3          50        1.006332e+11\n",
       "4          75        3.202036e+11\n",
       "5          95        7.982820e+11\n",
       "6          99        9.526886e+11"
      ]
     },
     "execution_count": 47,
     "metadata": {},
     "output_type": "execute_result"
    },
    {
     "data": {
      "image/png": "[encoded data removed]",
      "text/plain": [
       "<Figure size 432x288 with 1 Axes>"
      ]
     },
     "metadata": {},
     "output_type": "display_data"
    }
   ],
   "source": [
    "#budget = lognorm.rvs(s=1, scale=1e11, size=n)\n",
    "budget = loguniform(low=10, high=12, size=n)\n",
    "plt.hist(budget, bins=50, log=True);\n",
    "plt.xlabel(\"AGI Budget (2018$)\");\n",
    "plt.ylabel(\"Frequency (log-scale)\");\n",
    "summary(budget, 'AGI Budget (2018$)')"
   ]
  },
  {
   "cell_type": "markdown",
   "metadata": {},
   "source": [
    "### Hardware Price-Performance\n",
    "At the time of this writing, a TPU performing 180 FLOPS can be rented at the rate of [4.5 USD per hour](https://cloud.google.com/tpu/docs/pricing)."
   ]
  },
  {
   "cell_type": "code",
   "execution_count": 48,
   "metadata": {},
   "outputs": [],
   "source": [
    "# Cost per hour of TPU\n",
    "tpu_cost = 4.5\n",
    "# Computational performance of TPU\n",
    "tpu_compute = 180e12\n",
    "# Current price-performance of ML hardware\n",
    "price_performance = tpu_compute * 3600 / tpu_cost"
   ]
  },
  {
   "cell_type": "markdown",
   "metadata": {},
   "source": [
    "### Number of Doublings Required\n",
    "\n",
    "We can now calculate the number of doublings in price-performance required to train an AGI given our budgetary constraints."
   ]
  },
  {
   "cell_type": "code",
   "execution_count": 49,
   "metadata": {},
   "outputs": [
    {
     "data": {
      "text/html": [
       "<div>\n",
       "<style scoped>\n",
       "    .dataframe tbody tr th:only-of-type {\n",
       "        vertical-align: middle;\n",
       "    }\n",
       "\n",
       "    .dataframe tbody tr th {\n",
       "        vertical-align: top;\n",
       "    }\n",
       "\n",
       "    .dataframe thead th {\n",
       "        text-align: right;\n",
       "    }\n",
       "</style>\n",
       "<table border=\"1\" class=\"dataframe\">\n",
       "  <thead>\n",
       "    <tr style=\"text-align: right;\">\n",
       "      <th></th>\n",
       "      <th>Percentile</th>\n",
       "      <th>Doublings</th>\n",
       "    </tr>\n",
       "  </thead>\n",
       "  <tbody>\n",
       "    <tr>\n",
       "      <th>0</th>\n",
       "      <td>1</td>\n",
       "      <td>6.612339</td>\n",
       "    </tr>\n",
       "    <tr>\n",
       "      <th>1</th>\n",
       "      <td>5</td>\n",
       "      <td>15.637536</td>\n",
       "    </tr>\n",
       "    <tr>\n",
       "      <th>2</th>\n",
       "      <td>25</td>\n",
       "      <td>37.673011</td>\n",
       "    </tr>\n",
       "    <tr>\n",
       "      <th>3</th>\n",
       "      <td>50</td>\n",
       "      <td>64.201534</td>\n",
       "    </tr>\n",
       "    <tr>\n",
       "      <th>4</th>\n",
       "      <td>75</td>\n",
       "      <td>91.083337</td>\n",
       "    </tr>\n",
       "    <tr>\n",
       "      <th>5</th>\n",
       "      <td>95</td>\n",
       "      <td>113.442426</td>\n",
       "    </tr>\n",
       "    <tr>\n",
       "      <th>6</th>\n",
       "      <td>99</td>\n",
       "      <td>121.385305</td>\n",
       "    </tr>\n",
       "  </tbody>\n",
       "</table>\n",
       "</div>"
      ],
      "text/plain": [
       "   Percentile   Doublings\n",
       "0           1    6.612339\n",
       "1           5   15.637536\n",
       "2          25   37.673011\n",
       "3          50   64.201534\n",
       "4          75   91.083337\n",
       "5          95  113.442426\n",
       "6          99  121.385305"
      ]
     },
     "execution_count": 49,
     "metadata": {},
     "output_type": "execute_result"
    },
    {
     "data": {
      "image/png": "[encoded data removed]",
      "text/plain": [
       "<Figure size 432x288 with 1 Axes>"
      ]
     },
     "metadata": {},
     "output_type": "display_data"
    }
   ],
   "source": [
    "# Required cost efficiency of ML hardware\n",
    "required_performance = agi_compute / budget\n",
    "# Number of doublings required for AGI to be economically feasible\n",
    "doublings_required = np.log2(required_performance \n",
    "                             / (price_performance * tpu_improvement))\n",
    "plt.hist(doublings_required,\n",
    "         bins=100,\n",
    "         histtype=\"stepfilled\",\n",
    "         cumulative=True);\n",
    "plt.xlabel(\"Number of Doublings Required\");\n",
    "plt.ylabel(\"Frequency\");\n",
    "#plt.savefig(\"doublings.pdf\")\n",
    "summary(doublings_required, 'Doublings')"
   ]
  },
  {
   "cell_type": "markdown",
   "metadata": {},
   "source": [
    "## Projected Timeline\n",
    "As was noted above, there is not currently an obvious path to exponential improvements in price-performance after ~10-12 further doublings. The conclusion seems to be that this approach is simply not viable, but if we assume that these trends (somehow) continue, we can estimate the timeline."
   ]
  },
  {
   "cell_type": "code",
   "execution_count": 50,
   "metadata": {},
   "outputs": [
    {
     "data": {
      "text/html": [
       "<div>\n",
       "<style scoped>\n",
       "    .dataframe tbody tr th:only-of-type {\n",
       "        vertical-align: middle;\n",
       "    }\n",
       "\n",
       "    .dataframe tbody tr th {\n",
       "        vertical-align: top;\n",
       "    }\n",
       "\n",
       "    .dataframe thead th {\n",
       "        text-align: right;\n",
       "    }\n",
       "</style>\n",
       "<table border=\"1\" class=\"dataframe\">\n",
       "  <thead>\n",
       "    <tr style=\"text-align: right;\">\n",
       "      <th></th>\n",
       "      <th>Percentile</th>\n",
       "      <th>Years</th>\n",
       "    </tr>\n",
       "  </thead>\n",
       "  <tbody>\n",
       "    <tr>\n",
       "      <th>0</th>\n",
       "      <td>1</td>\n",
       "      <td>25.982804</td>\n",
       "    </tr>\n",
       "    <tr>\n",
       "      <th>1</th>\n",
       "      <td>5</td>\n",
       "      <td>61.446788</td>\n",
       "    </tr>\n",
       "    <tr>\n",
       "      <th>2</th>\n",
       "      <td>25</td>\n",
       "      <td>148.033909</td>\n",
       "    </tr>\n",
       "    <tr>\n",
       "      <th>3</th>\n",
       "      <td>50</td>\n",
       "      <td>252.276198</td>\n",
       "    </tr>\n",
       "    <tr>\n",
       "      <th>4</th>\n",
       "      <td>75</td>\n",
       "      <td>357.906678</td>\n",
       "    </tr>\n",
       "    <tr>\n",
       "      <th>5</th>\n",
       "      <td>95</td>\n",
       "      <td>445.765419</td>\n",
       "    </tr>\n",
       "    <tr>\n",
       "      <th>6</th>\n",
       "      <td>99</td>\n",
       "      <td>476.976503</td>\n",
       "    </tr>\n",
       "  </tbody>\n",
       "</table>\n",
       "</div>"
      ],
      "text/plain": [
       "   Percentile       Years\n",
       "0           1   25.982804\n",
       "1           5   61.446788\n",
       "2          25  148.033909\n",
       "3          50  252.276198\n",
       "4          75  357.906678\n",
       "5          95  445.765419\n",
       "6          99  476.976503"
      ]
     },
     "execution_count": 50,
     "metadata": {},
     "output_type": "execute_result"
    },
    {
     "data": {
      "image/png": "[encoded data removed]",
      "text/plain": [
       "<Figure size 432x288 with 1 Axes>"
      ]
     },
     "metadata": {},
     "output_type": "display_data"
    }
   ],
   "source": [
    "timeline = doublings_required * doubling_time\n",
    "plt.hist(timeline,\n",
    "         bins=1000,\n",
    "         cumulative=True,\n",
    "         histtype=\"stepfilled\",\n",
    "         density=True);\n",
    "plt.xlabel(\"Years from Present\");\n",
    "plt.ylabel(\"Frequency\");\n",
    "#plt.savefig(\"timeline.pdf\")\n",
    "summary(timeline, 'Years')"
   ]
  }
 ],
 "metadata": {
  "kernelspec": {
   "display_name": "Python 3",
   "language": "python",
   "name": "python3"
  },
  "language_info": {
   "codemirror_mode": {
    "name": "ipython",
    "version": 3
   },
   "file_extension": ".py",
   "mimetype": "text/x-python",
   "name": "python",
   "nbconvert_exporter": "python",
   "pygments_lexer": "ipython3",
   "version": "3.6.8"
  },
  "metadata": {
   "author": [
    "Baeo Maltinsky",
    "Jessica Taylor",
    "Jack Gallagher"
   ],
   "name": "Feasibility of AGI"
  }
 },
 "nbformat": 4,
 "nbformat_minor": 2
}
